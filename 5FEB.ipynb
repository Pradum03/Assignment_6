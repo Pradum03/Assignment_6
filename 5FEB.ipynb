{
 "cells": [
  {
   "cell_type": "markdown",
   "id": "0c9b7490-e15d-4b0f-99ca-4512543ae1bd",
   "metadata": {},
   "source": [
    "ASSIGNMENT:6\n",
    "\n",
    "1. Object-oriented programming (OOP) is a programming paradigm that organizes code into objects that can interact with each other. In OOP, a class is a blueprint for creating objects, while an object is an instance of a class.\n",
    "\n",
    "A class defines a set of attributes and methods that are common to all objects created from that class. Attributes are the characteristics of an object, while methods are the actions that an object can perform. An object is created by instantiating a class, which means that a specific instance of the class is created in memory, with its own unique set of attribute values.\n"
   ]
  },
  {
   "cell_type": "code",
   "execution_count": 6,
   "id": "7af252fb-079d-42f6-9a53-05ba9fece0bd",
   "metadata": {},
   "outputs": [
    {
     "name": "stdout",
     "output_type": "stream",
     "text": [
      "Pradum\n"
     ]
    }
   ],
   "source": [
    "class biodata:\n",
    "    def __init__(self, name, age, blood_group):\n",
    "        self.name = name\n",
    "        self.age = age\n",
    "        self.blood_group = blood_group\n",
    "        \n",
    "biodata_1= biodata(\"Pradum\",21,\"O+\")\n",
    "print(biodata_1.name)\n",
    "        "
   ]
  },
  {
   "cell_type": "markdown",
   "id": "aea04e5b-819c-48bf-9492-16c1ddf6c902",
   "metadata": {},
   "source": [
    "a class is a template for creating objects, while an object is an instance of a class with its own set of attributes and methods."
   ]
  },
  {
   "cell_type": "markdown",
   "id": "7a81e38a-11d9-431d-abe0-6f80c6834534",
   "metadata": {},
   "source": [
    "2"
   ]
  },
  {
   "cell_type": "markdown",
   "id": "6d3a3cd7-b559-40a6-82e8-7f6ea3daa1b5",
   "metadata": {},
   "source": [
    "The four pillars of Object-Oriented Programming (OOPs) are:\n",
    "\n",
    "Encapsulation: Encapsulation is the process of binding data and the methods that operate on that data in a single unit called a class. The purpose of encapsulation is to protect the data from unwanted access and modification by keeping it hidden from the outside world.\n",
    "\n",
    "Inheritance: Inheritance is the mechanism by which one class acquires the properties (methods and fields) of another class. It allows the creation of a new class that is a modified version of an existing class.\n",
    "\n",
    "Polymorphism: Polymorphism means the ability of objects to take on many forms. It allows objects of different classes to be treated as if they were objects of the same class. Polymorphism can be achieved through method overloading and method overriding.\n",
    "\n",
    "Abstraction: Abstraction is the process of hiding complex implementation details and showing only the necessary information to the user. It is the process of identifying the essential features of an object and ignoring the rest. Abstraction helps in reducing complexity and increasing efficiency."
   ]
  },
  {
   "cell_type": "markdown",
   "id": "6695d8da-91f9-4cf1-82e6-ee82da6c253b",
   "metadata": {},
   "source": [
    "3.\n",
    "In Python, the __init__() function is used to initialize the attributes of an object when it is created. It is a special method that gets called automatically when an object is instantiated from a class. The __init__() method allows you to set the initial values for the object's attributes."
   ]
  },
  {
   "cell_type": "code",
   "execution_count": 8,
   "id": "19729841-a2c1-43b8-b936-1d223a9092c3",
   "metadata": {},
   "outputs": [
    {
     "name": "stdout",
     "output_type": "stream",
     "text": [
      "2022 Audi A4\n"
     ]
    }
   ],
   "source": [
    "class Car:\n",
    "    def __init__(self, make, model, year):\n",
    "        self.make = make\n",
    "        self.model = model\n",
    "        self.year = year\n",
    "        self.odometer_reading = 0\n",
    "\n",
    "    def get_descriptive_name(self):\n",
    "        long_name = f\"{self.year} {self.make} {self.model}\"\n",
    "        return long_name.title()\n",
    "\n",
    "    def read_odometer(self):\n",
    "        print(f\"This car has {self.odometer_reading} miles on it.\")\n",
    "\n",
    "    def update_odometer(self, mileage):\n",
    "        if mileage >= self.odometer_reading:\n",
    "            self.odometer_reading = mileage\n",
    "        else:\n",
    "            print(\"You can't roll back an odometer!\")\n",
    "\n",
    "    def increment_odometer(self, miles):\n",
    "        self.odometer_reading += miles\n",
    "my_car = Car('audi', 'a4', 2022)\n",
    "print(my_car.get_descriptive_name())  # Output: 2022 Audi A4\n"
   ]
  },
  {
   "cell_type": "markdown",
   "id": "c48db89a-cb3b-4bdd-9def-5ce55b933690",
   "metadata": {},
   "source": [
    "4.\n",
    "In Object-Oriented Programming (OOPs), self is a reference to the instance of a class that is being manipulated. It is a convention in Python (and some other languages) to use self as the first parameter of instance methods.\n",
    "\n",
    "The self parameter is used to access the attributes and methods of the object that is calling the method. It allows us to manipulate the state of the object and access its behavior.\n",
    "\n",
    "Here's an example to illustrate the use of self in OOPs:"
   ]
  },
  {
   "cell_type": "code",
   "execution_count": 9,
   "id": "4499b894-623d-41a6-8ade-27df1bd45049",
   "metadata": {},
   "outputs": [
    {
     "name": "stdout",
     "output_type": "stream",
     "text": [
      "Hello, my name is PRADUM and I am 21 years old.\n"
     ]
    }
   ],
   "source": [
    "class Person:\n",
    "    def __init__(self, name, age):\n",
    "        self.name = name\n",
    "        self.age = age\n",
    "\n",
    "    def greet(self):\n",
    "        print(f\"Hello, my name is {self.name} and I am {self.age} years old.\")\n",
    "\n",
    "person1 = Person(\"PRADUM\", 21)\n",
    "person1.greet()  \n"
   ]
  },
  {
   "cell_type": "markdown",
   "id": "f662c0c9-ad5b-4e4e-91e1-79bac0d0cc17",
   "metadata": {},
   "source": [
    "5. Inheritance is a fundamental object-oriented programming concept where a new class (called the \"subclass\" or \"derived class\") is created by inheriting properties and methods from an existing class (called the \"base class\" or \"parent class\"). This allows the subclass to reuse the code from the base class, which helps in reducing the amount of code duplication.\n",
    "\n",
    "There are four types of inheritance in object-oriented programming:\n",
    "\n",
    "Single Inheritance:\n",
    "In single inheritance, a subclass is derived from a single base class. The subclass inherits all the properties and methods of the base class."
   ]
  },
  {
   "cell_type": "code",
   "execution_count": 1,
   "id": "99e745cf-572c-4b1e-abd5-277596ceef5a",
   "metadata": {},
   "outputs": [],
   "source": [
    "class Animal:\n",
    "    def eat(self):\n",
    "        print(\"The animal is eating.\")\n",
    "\n",
    "class Dog(Animal):\n",
    "    def bark(self):\n",
    "        print(\"The dog is barking.\")\n"
   ]
  },
  {
   "cell_type": "markdown",
   "id": "4a024b43-96d8-4501-985a-3774cde4cd83",
   "metadata": {},
   "source": [
    "Multiple Inheritance:\n",
    "In multiple inheritance, a subclass is derived from multiple base classes. The subclass inherits all the properties and methods of all the base classes."
   ]
  },
  {
   "cell_type": "code",
   "execution_count": 2,
   "id": "a1f92c00-986e-4c7f-8b2d-12cce2633b92",
   "metadata": {},
   "outputs": [],
   "source": [
    "class A:\n",
    "    def methodA(self):\n",
    "        print(\"Method A from class A\")\n",
    "\n",
    "class B:\n",
    "    def methodB(self):\n",
    "        print(\"Method B from class B\")\n",
    "\n",
    "class C(A, B):\n",
    "    def methodC(self):\n",
    "        print(\"Method C from class C\")\n",
    "\n"
   ]
  },
  {
   "cell_type": "markdown",
   "id": "49729737-6404-4139-b0b2-08fc106ef8bc",
   "metadata": {},
   "source": [
    "Hierarchical Inheritance:\n",
    "In hierarchical inheritance, multiple subclasses are derived from a single base class."
   ]
  },
  {
   "cell_type": "code",
   "execution_count": 3,
   "id": "867dde69-ff5e-4840-ae89-c2a67ad19f73",
   "metadata": {},
   "outputs": [],
   "source": [
    "class Animal:\n",
    "    def eat(self):\n",
    "        print(\"The animal is eating.\")\n",
    "\n",
    "class Dog(Animal):\n",
    "    def bark(self):\n",
    "        print(\"The dog is barking.\")\n",
    "\n",
    "class Cat(Animal):\n",
    "    def meow(self):\n",
    "        print(\"The cat is meowing.\")\n"
   ]
  },
  {
   "cell_type": "markdown",
   "id": "8c12b34a-f542-41b7-ad30-208a33381244",
   "metadata": {},
   "source": [
    "Multilevel Inheritance:\n",
    "In multilevel inheritance, a subclass is derived from a subclass. This means that a subclass can inherit properties and methods not only from its direct base class but also from its indirect base class."
   ]
  },
  {
   "cell_type": "code",
   "execution_count": 4,
   "id": "48fb1ea1-b3ed-430e-ae06-ec5e85bc1446",
   "metadata": {},
   "outputs": [],
   "source": [
    "class Animal:\n",
    "    def eat(self):\n",
    "        print(\"The animal is eating.\")\n",
    "\n",
    "class Mammal(Animal):\n",
    "    def walk(self):\n",
    "        print(\"The mammal is walking.\")\n",
    "\n",
    "class Dog(Mammal):\n",
    "    def bark(self):\n",
    "        print(\"The dog is barking.\")\n"
   ]
  },
  {
   "cell_type": "code",
   "execution_count": null,
   "id": "869d04c0-bbb9-42d4-b0fd-44a853b31da2",
   "metadata": {},
   "outputs": [],
   "source": []
  }
 ],
 "metadata": {
  "kernelspec": {
   "display_name": "Python 3 (ipykernel)",
   "language": "python",
   "name": "python3"
  },
  "language_info": {
   "codemirror_mode": {
    "name": "ipython",
    "version": 3
   },
   "file_extension": ".py",
   "mimetype": "text/x-python",
   "name": "python",
   "nbconvert_exporter": "python",
   "pygments_lexer": "ipython3",
   "version": "3.10.8"
  }
 },
 "nbformat": 4,
 "nbformat_minor": 5
}
